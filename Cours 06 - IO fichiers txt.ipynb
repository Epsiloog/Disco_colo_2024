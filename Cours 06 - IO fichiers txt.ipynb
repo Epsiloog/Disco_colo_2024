{
 "cells": [
  {
   "cell_type": "markdown",
   "metadata": {
    "slideshow": {
     "slide_type": "slide"
    }
   },
   "source": [
    "<div class=\"alert alert-block alert-info\">\n",
    "    <h1>IngeSUP - Cours 06 - I/O fichiers txt</h1>\n",
    "</div>"
   ]
  },
  {
   "cell_type": "markdown",
   "metadata": {
    "slideshow": {
     "slide_type": "slide"
    }
   },
   "source": [
    "## Sommaire\n",
    "\n",
    "* <a href=\"#Objectifs\">Objectifs</a>\n",
    "* <a href=\"#Prérequis\">Prérequis</a>\n",
    "* <a href=\"#Ouverture-et-fermeture-d'un-fichier-texte\">Ouverture et fermeture d'un fichier texte</a>\n",
    "* <a href=\"#Ecriture-dans-un-fichier \">Ecriture dans un fichier </a>\n",
    "* <a href=\"#Lecture-d'un-fichier\">Lecture d'un fichier</a>\n",
    "* <a href=\"#Ouverture-d'un-fichier-avec-la-méthode-with\">Ouverture d'un fichier avec la méthode with</a>"
   ]
  },
  {
   "cell_type": "markdown",
   "metadata": {
    "slideshow": {
     "slide_type": "slide"
    }
   },
   "source": [
    "\n",
    "## Objectifs\n",
    "\n",
    "- Etre capable d'ouvrir et de fermer un fichier texte ;\n",
    "- Savoir écrire dans un fichier texte ;\n",
    "- Utiliser les différentes méthodes de lecture d'un fichier texte."
   ]
  },
  {
   "cell_type": "markdown",
   "metadata": {
    "slideshow": {
     "slide_type": "slide"
    }
   },
   "source": [
    "## Prérequis\n",
    "\n",
    "Avant de réaliser ce notebook de cours, vous devez avoir préalablement visualisé le mimo suivant :\n",
    "\n",
    "-  [Module 8 : Les entrées/sorties – Fichiers](https://courses.ionisx.com/courses/ref/m189/x/courseware/f410c456d2ac45fd95af0b82d8068c24/258bbde4259c468785096d8b99307d34/)\n"
   ]
  },
  {
   "cell_type": "markdown",
   "metadata": {
    "slideshow": {
     "slide_type": "slide"
    }
   },
   "source": [
    "## Ouverture et fermeture d'un fichier texte\n",
    "\n",
    "En Python, nous utiliserons la fonction `open` pour ouvrir un fichier. Celle-ci requière deux arguments, le chemin d'accès du fichier à lire ainsi que le mode d'ouverture. On utilisera une variable qui permettra de stocker l'information."
   ]
  },
  {
   "cell_type": "code",
   "execution_count": null,
   "metadata": {
    "slideshow": {
     "slide_type": "subslide"
    }
   },
   "outputs": [],
   "source": [
    "file_in = open(\"exemple.txt\",\"w\")"
   ]
  },
  {
   "cell_type": "markdown",
   "metadata": {
    "slideshow": {
     "slide_type": "slide"
    }
   },
   "source": [
    "Un paramètre primordial de la fonction `open` est le mode d'ouverture. celui-ci est une chaîne de caractère qui spécifie la façon dont on souhaite ouvrir le fichier. \n",
    "\n",
    "Le mode choisi conditionnera ce que vous pourrez faire avec le fichier. \n",
    "\n",
    "Voici les modes d'ouverture couramment utilisés :"
   ]
  },
  {
   "cell_type": "markdown",
   "metadata": {
    "slideshow": {
     "slide_type": "subslide"
    }
   },
   "source": [
    "\n",
    "- 'w' : utilisé pour écrire dans un fichier ;\n",
    "- 'r' : utilisé pour lire un fichier ;\n",
    "- 'x' : utilisé pour créer et écrire dans un nouveau fichier ;\n",
    "- 'a' : utilisé pour écrire à la suite d'un fichier existant ;\n",
    "- 'r+' : utilisé pour lire et écrire dans un fichier ;\n"
   ]
  },
  {
   "cell_type": "markdown",
   "metadata": {
    "slideshow": {
     "slide_type": "subslide"
    }
   },
   "source": [
    "L'instruction `close` est quand à elle utilisée pour fermer le fichier ouvert."
   ]
  },
  {
   "cell_type": "code",
   "execution_count": null,
   "metadata": {
    "slideshow": {
     "slide_type": "subslide"
    }
   },
   "outputs": [],
   "source": [
    "file_in.close()"
   ]
  },
  {
   "cell_type": "markdown",
   "metadata": {
    "slideshow": {
     "slide_type": "subslide"
    }
   },
   "source": [
    "<div style=\"border-color: #007bff; margin: 1.5625em auto; padding: 0 .6rem .8rem !important; overflow: hidden; page-break-inside: avoid;border-left: .2rem solid #007bff; border-radius: .1rem; box-shadow: 0 .2rem .5rem rgba(0,0,0,.05),0 0 .05rem rgba(0,0,0,.1); transition: color .25s,background-color .25s,border-color .25s;\">\n",
    "    <p style=\"background-color: #e7f2fa; position: relative; margin: 0 -.6rem !important; padding: .4rem .6rem .4rem 2rem; font-weight: 700;\">📝 Note</p>\n",
    "    <p style=\"padding: 0 1.4rem; margin-top: .4em; margin-bottom: 0; font-size: 1em;\">\n",
    "        Il est important de noter que, lors de la création d'un fichier texte, si aucun chemin d'accès absolu n'est spécifié, le fichier sera crée dans le même répertoire que le notebook qui exécute la commande.\n",
    "    </p>\n",
    "</div>"
   ]
  },
  {
   "cell_type": "markdown",
   "metadata": {
    "slideshow": {
     "slide_type": "slide"
    }
   },
   "source": [
    "## Ecriture dans un fichier \n",
    "\n",
    "Nous avons vu que le mode `\"w\"` permettait d'écrire au début d'un fichier texte préalablement ouvert tandis que le mode `\"a\"` permet lui d'écrire à la suite du fichier. \n",
    "\n",
    "C'est l'instruction `write` qui commande l'écriture dans le fichier, écriture de la chaîne de caractère entrée en argument :"
   ]
  },
  {
   "cell_type": "code",
   "execution_count": null,
   "metadata": {
    "slideshow": {
     "slide_type": "subslide"
    }
   },
   "outputs": [],
   "source": [
    "file_in = open(\"exemple_ecriture.txt\",\"w\")\n",
    "file_in.write(\"Nous écrivons à la première ligne du fichier\")\n",
    "file_in.close()"
   ]
  },
  {
   "cell_type": "markdown",
   "metadata": {
    "slideshow": {
     "slide_type": "slide"
    }
   },
   "source": [
    "Pour rappel, le mode `a` permet lui d'écrire à la suite d'un fichier. Par exemple:"
   ]
  },
  {
   "cell_type": "code",
   "execution_count": null,
   "metadata": {
    "slideshow": {
     "slide_type": "subslide"
    }
   },
   "outputs": [],
   "source": [
    "file_in = open(\"exemple_ecriture.txt\",\"a\")\n",
    "file_in.write(\"Nous écrivons à la suite du fichier\")\n",
    "file_in.close()"
   ]
  },
  {
   "cell_type": "markdown",
   "metadata": {
    "slideshow": {
     "slide_type": "slide"
    }
   },
   "source": [
    "Il est souvent nécessaire d'aller à la ligne lorsque l'on écrit dans un fichier texte. Pour cela, nous utiliserons le caractère spécial `\\n`."
   ]
  },
  {
   "cell_type": "code",
   "execution_count": null,
   "metadata": {
    "slideshow": {
     "slide_type": "subslide"
    }
   },
   "outputs": [],
   "source": [
    "file_in = open(\"exemple_ecriture.txt\",\"a\")\n",
    "file_in.write(\"Nous écrivons à la suite du fichier\\n\")\n",
    "file_in.write(\"Nous sommes allés à la ligne et nous réécrivons\")\n",
    "file_in.close()"
   ]
  },
  {
   "cell_type": "markdown",
   "metadata": {
    "slideshow": {
     "slide_type": "slide"
    }
   },
   "source": [
    "## Lecture d'un fichier\n",
    "\n",
    "Il existe 3 méthodes permettant de lire un fichier txt en Python :\n",
    "- méthode `.readlines()` ;\n",
    "- méthode `.read()` ;\n",
    "- méthode `.readline()`."
   ]
  },
  {
   "cell_type": "markdown",
   "metadata": {
    "slideshow": {
     "slide_type": "subslide"
    }
   },
   "source": [
    "### Méthode `.readlines()`:\n",
    "\n",
    "La méthode `.readlines()` agit sur l'objet (ie le fichier) en déplaçant le curseur de lecture du début à la fin du fichier, puis elle renvoie une liste contenant toutes les lignes du fichier. \n",
    "\n",
    "Par exemple :"
   ]
  },
  {
   "cell_type": "code",
   "execution_count": null,
   "metadata": {
    "slideshow": {
     "slide_type": "subslide"
    }
   },
   "outputs": [],
   "source": [
    "# Ecriture du fichier txt\n",
    "file = open(\"exemple_lecture.txt\",\"x\")\n",
    "file.write(\"Margaux\\nThéo\\nSimon\\nSophie\")\n",
    "file.close()\n",
    "\n",
    "# Lecture du fichier txt\n",
    "file = open(\"exemple_lecture.txt\",\"r\")\n",
    "contenu = file.readlines()\n",
    "file.close()\n",
    "print(contenu)\n",
    "\n",
    "# Suppression du fichier txt\n",
    "import os\n",
    "os.remove(\"exemple_lecture.txt\")"
   ]
  },
  {
   "cell_type": "markdown",
   "metadata": {
    "slideshow": {
     "slide_type": "slide"
    }
   },
   "source": [
    "### Méthode `.read()`:\n",
    "\n",
    "La méthode `.read()` lit tout le contenu d'un fichier et renvoie une chaîne de caractères unique."
   ]
  },
  {
   "cell_type": "code",
   "execution_count": null,
   "metadata": {
    "slideshow": {
     "slide_type": "subslide"
    }
   },
   "outputs": [],
   "source": [
    "# Ecriture du fichier txt\n",
    "file = open(\"exemple_lecture.txt\",\"x\")\n",
    "file.write(\"Margaux\\nThéo\\nSimon\\nSophie\")\n",
    "file.close()\n",
    "\n",
    "# Lecture du fichier txt\n",
    "file = open(\"exemple_lecture.txt\",\"r\")\n",
    "contenu = file.read()\n",
    "file.close()\n",
    "print(contenu)\n",
    "\n",
    "# Suppression du fichier txt\n",
    "import os\n",
    "os.remove(\"exemple_lecture.txt\")"
   ]
  },
  {
   "cell_type": "markdown",
   "metadata": {
    "slideshow": {
     "slide_type": "slide"
    }
   },
   "source": [
    "### Méthode `.readline()`:\n",
    "\n",
    "La méthode `.readline()` (sans s à la fin) lit une ligne d'un fichier et la renvoie sous forme de chaîne de caractères. \n",
    "\n",
    "À chaque nouvel appel de `.readline()`, la ligne suivante est renvoyée."
   ]
  },
  {
   "cell_type": "code",
   "execution_count": null,
   "metadata": {
    "slideshow": {
     "slide_type": "subslide"
    }
   },
   "outputs": [],
   "source": [
    "# Ecriture du fichier txt\n",
    "file = open(\"exemple_lecture.txt\",\"x\")\n",
    "file.write(\"Margaux\\nThéo\\nSimon\\nSophie\")\n",
    "file.close()\n",
    "\n",
    "# Lecture du fichier txt\n",
    "file = open(\"exemple_lecture.txt\",\"r\")\n",
    "contenu = file.readline()\n",
    "file.close()\n",
    "print(contenu)\n",
    "\n",
    "# Suppression du fichier txt\n",
    "import os\n",
    "os.remove(\"exemple_lecture.txt\")"
   ]
  },
  {
   "cell_type": "markdown",
   "metadata": {
    "slideshow": {
     "slide_type": "slide"
    }
   },
   "source": [
    "## Ouverture d'un fichier avec la méthode `with`\n",
    "\n",
    "Il existe en Python le mot-clé `with` qui permet d'ouvrir et de fermer un fichier de manière efficace. \n",
    "\n",
    "Si pour une raison ou une autre l'ouverture ou la lecture du fichier conduit à une erreur, l'utilisation de with garantit la bonne fermeture du fichier, ce qui n'est pas le cas dans le code précédent. Voici donc le même exemple avec `with` :"
   ]
  },
  {
   "cell_type": "code",
   "execution_count": null,
   "metadata": {
    "slideshow": {
     "slide_type": "subslide"
    }
   },
   "outputs": [],
   "source": [
    "# Ecriture du fichier txt\n",
    "file = open(\"exemple_lecture.txt\",\"x\")\n",
    "file.write(\"Margaux\\nThéo\\nSimon\\nSophie\")\n",
    "file.close()\n",
    "\n",
    "# Lecture du fichier txt\n",
    "with open(\"exemple_lecture.txt\", 'r') as filin:\n",
    "    lignes = filin.readlines()\n",
    "    for ligne in lignes:\n",
    "        print(ligne)\n",
    "        \n",
    "# Suppression du fichier txt\n",
    "import os\n",
    "os.remove(\"exemple_lecture.txt\")"
   ]
  },
  {
   "cell_type": "markdown",
   "metadata": {
    "slideshow": {
     "slide_type": "slide"
    }
   },
   "source": [
    "## Exercices de TD\n",
    "\n",
    "Vous pouvez maintenant vous exercer à partir du notebook [TD 06 - I/O fichiers txt](../TD/TD%2005%20-%20IO%20fichiers%20txt.ipynb)."
   ]
  }
 ],
 "metadata": {
  "celltoolbar": "Format de la Cellule Texte Brut",
  "kernelspec": {
   "display_name": "Python 3",
   "language": "python",
   "name": "python3"
  },
  "language_info": {
   "codemirror_mode": {
    "name": "ipython",
    "version": 3
   },
   "file_extension": ".py",
   "mimetype": "text/x-python",
   "name": "python",
   "nbconvert_exporter": "python",
   "pygments_lexer": "ipython3",
   "version": "3.7.4"
  },
  "latex_envs": {
   "LaTeX_envs_menu_present": true,
   "autoclose": false,
   "autocomplete": true,
   "bibliofile": "biblio.bib",
   "cite_by": "apalike",
   "current_citInitial": 1,
   "eqLabelWithNumbers": true,
   "eqNumInitial": 1,
   "hotkeys": {
    "equation": "Ctrl-E",
    "itemize": "Ctrl-I"
   },
   "labels_anchors": false,
   "latex_user_defs": false,
   "report_style_numbering": false,
   "user_envs_cfg": false
  },
  "varInspector": {
   "cols": {
    "lenName": 16,
    "lenType": 16,
    "lenVar": 40
   },
   "kernels_config": {
    "python": {
     "delete_cmd_postfix": "",
     "delete_cmd_prefix": "del ",
     "library": "var_list.py",
     "varRefreshCmd": "print(var_dic_list())"
    },
    "r": {
     "delete_cmd_postfix": ") ",
     "delete_cmd_prefix": "rm(",
     "library": "var_list.r",
     "varRefreshCmd": "cat(var_dic_list()) "
    }
   },
   "types_to_exclude": [
    "module",
    "function",
    "builtin_function_or_method",
    "instance",
    "_Feature"
   ],
   "window_display": false
  }
 },
 "nbformat": 4,
 "nbformat_minor": 4
}
