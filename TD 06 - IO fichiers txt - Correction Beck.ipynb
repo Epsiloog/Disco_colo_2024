{
 "cells": [
  {
   "cell_type": "markdown",
   "metadata": {},
   "source": [
    "***\n",
    "# IngeSUP - TD 06 - I/O fichiers txt\n",
    "***"
   ]
  },
  {
   "cell_type": "markdown",
   "metadata": {},
   "source": [
    "<blockquote><em>“Cookie : Anciennement petit gâteau sucré, qu'on acceptait avec plaisir. Aujourd'hui : petit fichier informatique drôlement salé, qu'il faut refuser avec véhémence.”</em></blockquote>&nbsp;&nbsp;<i style=\"font-size: 10px\">Luc Fayard</i>"
   ]
  },
  {
   "cell_type": "markdown",
   "metadata": {},
   "source": [
    "***\n",
    "## Exercice 06.1\n",
    "***"
   ]
  },
  {
   "cell_type": "markdown",
   "metadata": {},
   "source": [
    "1. Créez le fichier \"exo1.txt\" en l'ouvrant en mode écriture, écrivez un caractère dedans, puis refermez-le."
   ]
  },
  {
   "cell_type": "code",
   "execution_count": 2,
   "metadata": {
    "scrolled": true
   },
   "outputs": [],
   "source": [
    "fichier=open(\"exo1.txt\",\"x\")\n",
    "fichier.write(\"a\")\n",
    "fichier.close()"
   ]
  },
  {
   "cell_type": "markdown",
   "metadata": {},
   "source": [
    "2. Ouvrez-le en mode lecture, affichez ce que vous lisez dedans, puis refermez-le."
   ]
  },
  {
   "cell_type": "code",
   "execution_count": 12,
   "metadata": {
    "scrolled": false
   },
   "outputs": [
    {
     "name": "stdout",
     "output_type": "stream",
     "text": [
      "a\n",
      "\n"
     ]
    }
   ],
   "source": [
    "fichier=open(\"exo1.txt\",\"r\")\n",
    "contenu=fichier.read()\n",
    "print(contenu)\n",
    "fichier.close()"
   ]
  },
  {
   "cell_type": "markdown",
   "metadata": {},
   "source": [
    "3. Ouvrez-le en mode écriture, écrivez \"Hello \" dedans, puis refermez-le. "
   ]
  },
  {
   "cell_type": "code",
   "execution_count": 17,
   "metadata": {
    "scrolled": true
   },
   "outputs": [],
   "source": [
    "fichier=open(\"exo1.txt\",\"w\")\n",
    "fichier.write(\"Hello\")\n",
    "fichier.close()"
   ]
  },
  {
   "cell_type": "markdown",
   "metadata": {},
   "source": [
    "4. Ouvrez-le en mode lecture, affichez ce que vous lisez dedans, puis refermez-le. Que remarquez-vous ? "
   ]
  },
  {
   "cell_type": "code",
   "execution_count": 18,
   "metadata": {
    "scrolled": true
   },
   "outputs": [
    {
     "name": "stdout",
     "output_type": "stream",
     "text": [
      "Hello\n"
     ]
    }
   ],
   "source": [
    "fichier=open(\"exo1.txt\",\"r\")\n",
    "contenu=fichier.read()\n",
    "print(contenu)\n",
    "fichier.close()\n",
    "\n",
    "#on remarque que \"a\" a été écrasé !"
   ]
  },
  {
   "cell_type": "markdown",
   "metadata": {},
   "source": [
    "5. Ouvrez-le en mode ajout, écrivez \"World !\" dedans, puis refermez-le. "
   ]
  },
  {
   "cell_type": "code",
   "execution_count": 19,
   "metadata": {
    "scrolled": true
   },
   "outputs": [],
   "source": [
    "fichier=open(\"exo1.txt\",\"a\")\n",
    "fichier.write(\" World !\")\n",
    "fichier.close()"
   ]
  },
  {
   "cell_type": "markdown",
   "metadata": {},
   "source": [
    "6. Ouvrez-le en mode lecture, affichez ce que vous lisez dedans, puis refermez-le. Que remarquez-vous ?"
   ]
  },
  {
   "cell_type": "code",
   "execution_count": 20,
   "metadata": {
    "scrolled": true
   },
   "outputs": [
    {
     "name": "stdout",
     "output_type": "stream",
     "text": [
      "HelloWorld !\n"
     ]
    }
   ],
   "source": [
    "fichier=open(\"exo1.txt\",\"r\")\n",
    "contenu=fichier.read()\n",
    "print(contenu)\n",
    "fichier.close()\n",
    "\n",
    "# cette fois si le mot est ajouté sans craser\n"
   ]
  },
  {
   "cell_type": "markdown",
   "metadata": {},
   "source": [
    "*Entrez votre réponse ici*"
   ]
  },
  {
   "cell_type": "markdown",
   "metadata": {},
   "source": [
    "7. Ouvrez-le en mode ajout, écrivez en sautant une ligne \"Bonjour tout le monde\" dedans, puis refermez-le."
   ]
  },
  {
   "cell_type": "code",
   "execution_count": 21,
   "metadata": {
    "scrolled": true
   },
   "outputs": [],
   "source": [
    "fichier=open(\"exo1.txt\",\"a\")\n",
    "fichier.write(\"\\nBonjour tout le monde\")\n",
    "fichier.close()"
   ]
  },
  {
   "cell_type": "markdown",
   "metadata": {},
   "source": [
    "8. Ouvrez le sans utiliser de mode, affichez le contenu de chaque ligne, puis refermez-le. Que remarquez-vous ?"
   ]
  },
  {
   "cell_type": "code",
   "execution_count": 22,
   "metadata": {
    "scrolled": true
   },
   "outputs": [
    {
     "name": "stdout",
     "output_type": "stream",
     "text": [
      "HelloWorld !\n",
      "Bonjour tout le monde\n"
     ]
    }
   ],
   "source": [
    "fichier=open(\"exo1.txt\")\n",
    "contenu=fichier.read()\n",
    "print(contenu)\n",
    "fichier.close()\n",
    "\n",
    "#on remarque que si on ne met pas de mode, le mode de base est le mode de lecture"
   ]
  },
  {
   "cell_type": "markdown",
   "metadata": {},
   "source": [
    "*Entrez votre réponse ici*"
   ]
  },
  {
   "cell_type": "markdown",
   "metadata": {},
   "source": [
    "***\n",
    "## Exercice 06.2\n",
    "***"
   ]
  },
  {
   "cell_type": "markdown",
   "metadata": {},
   "source": [
    "1. Que fait le code Python suivant ?"
   ]
  },
  {
   "cell_type": "markdown",
   "metadata": {},
   "source": [
    "```python\n",
    "compteur = 0\n",
    "f = open(\"test.txt\", \"r\")\n",
    "caractere = f.read(1)  \n",
    "while caractere != '':  \n",
    "    if caractere == \"a\": \n",
    "        compteur += 1  \n",
    "    caractere = f.read(1)  \n",
    "\n",
    "f.close()\n",
    "print(\"Résultat: \", compteur)\n",
    "```"
   ]
  },
  {
   "cell_type": "markdown",
   "metadata": {},
   "source": [
    "=> Renvoie le nombre de caractère \"a\""
   ]
  },
  {
   "cell_type": "code",
   "execution_count": 3,
   "metadata": {},
   "outputs": [
    {
     "name": "stdout",
     "output_type": "stream",
     "text": [
      "Résultat:  5\n"
     ]
    }
   ],
   "source": [
    "compteur = 0\n",
    "f = open(\"test.txt\", \"r\")\n",
    "caractere = f.read(1)  \n",
    "while caractere != '':  \n",
    "    if caractere == \"a\": \n",
    "        compteur += 1  \n",
    "    caractere = f.read(1)  \n",
    "\n",
    "f.close()\n",
    "print(\"Résultat: \", compteur)"
   ]
  },
  {
   "cell_type": "markdown",
   "metadata": {},
   "source": [
    "2. Pourquoi à t-on mis cette commande à l'intérieur du while ?\n",
    "\n",
    "```python\n",
    "caractere = f.read(1)\n",
    "```\n"
   ]
  },
  {
   "cell_type": "markdown",
   "metadata": {},
   "source": [
    "=> Cela fait avancer le \"curseur\" de lecture de caractère"
   ]
  },
  {
   "cell_type": "markdown",
   "metadata": {},
   "source": [
    "3. Essayez de deviner l'affichage des suites d'instructions suivantes, puis testez dans la console python (justifiez votre réponse) :\n",
    "\n",
    "```python\n",
    "f = open(\"fichier.ext\", \"w\") \n",
    "f.write(\"bonjour\")    \n",
    "f.close()   \n",
    "f = open(\"fichier.ext\", \"r\") \n",
    "f.read(3) \n",
    "a = f.read(4) \n",
    "f.close()    \n",
    "print(a)   \n",
    "```"
   ]
  },
  {
   "cell_type": "code",
   "execution_count": 2,
   "metadata": {},
   "outputs": [
    {
     "name": "stdout",
     "output_type": "stream",
     "text": [
      "jour\n"
     ]
    }
   ],
   "source": [
    "f = open(\"fichier.txt\", \"w\") \n",
    "f.write(\"bonjour\")    \n",
    "f.close()   \n",
    "f = open(\"fichier.txt\", \"r\") \n",
    "f.read(3) \n",
    "a = f.read(4) \n",
    "f.close()    \n",
    "print(a)  "
   ]
  },
  {
   "cell_type": "markdown",
   "metadata": {},
   "source": [
    "=> Cela renvoie les caractères d'indice 3 a 6 du fichier\n",
    "les indices 0,1 et 2 sont sautés"
   ]
  },
  {
   "cell_type": "markdown",
   "metadata": {},
   "source": [
    "4. Essayez de deviner l'affichage des suites d'instructions suivantes, puis testez dans la console python (justifiez votre réponse) :\n",
    "\n",
    "```python\n",
    "f = open(\"test.ext\",\"w\")\n",
    "f.write(\"une ligne\\n\")  # \\n sert à sauter la ligne..\n",
    "f.write(\"Une autre ligne\\n\")\n",
    "f.write(\"unE dernière ligne\\n\")\n",
    "f.write(\"en fait non\\n\")\n",
    "f.close()\n",
    "\n",
    "f = open(\"test.ext\", \"r+\")  # Mode lecture/ecriture\n",
    "f.readline()  \n",
    "f.read(5)  \n",
    "f.readline() \n",
    "a = f.read(3)\n",
    "print(a)\n",
    "f.close()\n",
    "```"
   ]
  },
  {
   "cell_type": "code",
   "execution_count": 11,
   "metadata": {},
   "outputs": [
    {
     "name": "stdout",
     "output_type": "stream",
     "text": [
      "unE\n"
     ]
    }
   ],
   "source": [
    "f = open(\"test.txt\",\"w\")\n",
    "f.write(\"une ligne\\n\")  # \\n sert à sauter la ligne..\n",
    "f.write(\"Une autre ligne\\n\")\n",
    "f.write(\"unE dernière ligne\\n\")\n",
    "f.write(\"en fait non\\n\")\n",
    "f.close()\n",
    "\n",
    "f = open(\"test.ext\", \"r+\")  # Mode lecture/ecriture\n",
    "f.readline()  \n",
    "f.read(5)  \n",
    "f.readline() \n",
    "a = f.read(3)\n",
    "print(a)\n",
    "f.close()"
   ]
  },
  {
   "cell_type": "markdown",
   "metadata": {},
   "source": [
    "_Entrez votre réponse ici_"
   ]
  },
  {
   "cell_type": "markdown",
   "metadata": {},
   "source": [
    "***\n",
    "## Exercice 06.3\n",
    "***"
   ]
  },
  {
   "cell_type": "markdown",
   "metadata": {},
   "source": [
    "Cet exercice traite un vrai listing des candidats du concours Mines-Ponts 2013, filère MP, récupéré sur Internet.\n",
    "\n",
    "Chaque ligne est constituée de quatre champs : numéro de candidat, Nom et Prénom, Admissible ou refusé, numéro de série d’oral si admissible. \n",
    "\n",
    "1. Téléchargez le fichier \"admissibles.txt\" que vous trouverez sur Moodle. Copiez-le dans le même répertoire que votre notebook. Ouvrez avec un éditeur de textes le fichier admissibles.txt. Quel semble être le caractère qui sépare les quatre champs ?"
   ]
  },
  {
   "cell_type": "markdown",
   "metadata": {},
   "source": [
    "*Entrez votre réponse ici*"
   ]
  },
  {
   "cell_type": "markdown",
   "metadata": {},
   "source": [
    "2. Complétez la première ligne du script suivant pour ouvrir le fichier en mode lecture, votre fichier admissibles.txt:\n",
    "```python\n",
    "f = open(...\n",
    "a= f.readline() # la première ligne du fichier\n",
    "b= f.readline() # la deuxième ligne du fichier\n",
    "f.close()\n",
    "```\n",
    "Exécutez le script, puis affichez `a`."
   ]
  },
  {
   "cell_type": "code",
   "execution_count": null,
   "metadata": {
    "scrolled": true
   },
   "outputs": [],
   "source": [
    "# VOTRE CODE ICI"
   ]
  },
  {
   "cell_type": "markdown",
   "metadata": {},
   "source": [
    "3. Quel est donc le caractère qui sépare les quatre colonnes ?"
   ]
  },
  {
   "cell_type": "markdown",
   "metadata": {},
   "source": [
    "*Entrez votre réponse ici*"
   ]
  },
  {
   "cell_type": "markdown",
   "metadata": {},
   "source": [
    "4. Ecrivez les instructions qui permettent de connaitre le nombre de candidats qui correspond au nombre de lignes du fichier."
   ]
  },
  {
   "cell_type": "code",
   "execution_count": null,
   "metadata": {},
   "outputs": [],
   "source": [
    "# VOTRE CODE ICI"
   ]
  },
  {
   "cell_type": "markdown",
   "metadata": {},
   "source": [
    "5. Appliquez la méthode `split()` à une ligne du fichier en utilisant comme paramètre le séparateur trouvé dans la question (3) en complétant puis en exécutant les lignes du script suivant :\n",
    "```python\n",
    "f = open( ....\n",
    "a= f.readline() # la première ligne du fichier\n",
    "l=a.split(...\n",
    "print(l)\n",
    "f.close()\n",
    "```\n",
    "\n",
    "Que retourne la méthode `.split()` utilisée avec le séparateur en paramètre ?"
   ]
  },
  {
   "cell_type": "code",
   "execution_count": null,
   "metadata": {},
   "outputs": [],
   "source": [
    "# VOTRE CODE ICI"
   ]
  },
  {
   "cell_type": "markdown",
   "metadata": {},
   "source": [
    "*Entrez votre réponse ici*"
   ]
  },
  {
   "cell_type": "markdown",
   "metadata": {},
   "source": [
    "6. Déterminez le nombre d’admissibles au concours."
   ]
  },
  {
   "cell_type": "code",
   "execution_count": null,
   "metadata": {},
   "outputs": [],
   "source": [
    "# VOTRE CODE ICI"
   ]
  },
  {
   "cell_type": "markdown",
   "metadata": {},
   "source": [
    "7. Écrivez un fichier \"noms_admissibles.txt\" contenant tous les noms et prénoms des candidats admissibles."
   ]
  },
  {
   "cell_type": "code",
   "execution_count": null,
   "metadata": {},
   "outputs": [],
   "source": [
    "# VOTRE CODE ICI"
   ]
  },
  {
   "cell_type": "markdown",
   "metadata": {},
   "source": [
    "***\n",
    "## Exercice 06.4\n",
    "***"
   ]
  },
  {
   "cell_type": "markdown",
   "metadata": {},
   "source": [
    "1. Créez un sous-répertoire TablesMultiplication ;\n",
    "2. Dans ce sous-répertoire, créez les fichiers textes `table_de_x.txt` où `x` est un entier compris entre 1 et 100. Chaque fichier table_de_x.txt sera composé de 10 lignes de texte:\n",
    "<center>0 x 0 = 0\n",
    "<center>0 x 1 = 0\n",
    "<center>0 x 2 = 0\n",
    "<center>..."
   ]
  },
  {
   "cell_type": "code",
   "execution_count": 10,
   "metadata": {},
   "outputs": [],
   "source": [
    "#on fait d'abord une seule table"
   ]
  },
  {
   "cell_type": "code",
   "execution_count": 4,
   "metadata": {
    "scrolled": true
   },
   "outputs": [],
   "source": [
    "\n",
    "fichier=open(\"dossier/table de 7.txt\",\"x\")\n",
    "\n",
    "for i in range(1,11):\n",
    "    texte= \"7*\"+ str(i)+\"=\"+str(i*7)+\"\\n\" # 7*0=0 lors de la premiere boucle\n",
    "    fichier.write(texte)\n",
    "        \n",
    "fichier.close()\n",
    "\n"
   ]
  },
  {
   "cell_type": "code",
   "execution_count": 5,
   "metadata": {},
   "outputs": [],
   "source": [
    "# puis on fait les 100 tables\n",
    "\n",
    "for j in range(1,100):\n",
    "    nom=\"dossier/table de \"+str(j)+\".txt\"\n",
    "    \n",
    "    fichier=open(nom,\"x\")\n",
    "\n",
    "    for i in range(1,11):\n",
    "        texte= str(j)+\"*\"+ str(i)+\"=\"+str(i*j)+\"\\n\" \n",
    "        fichier.write(texte)\n",
    "        \n",
    "    fichier.close()\n",
    "\n"
   ]
  },
  {
   "cell_type": "markdown",
   "metadata": {},
   "source": [
    "***\n",
    "## Exercice 06.5\n",
    "***"
   ]
  },
  {
   "cell_type": "markdown",
   "metadata": {},
   "source": [
    "Ecrivez un programme qui :\n",
    "1. écrit dans un fichier texte `notes_etudiants.txt` les 10 premières valeurs réelles comprises entre 0 et 20 entrées par l'utilisateur.\n"
   ]
  },
  {
   "cell_type": "code",
   "execution_count": null,
   "metadata": {},
   "outputs": [],
   "source": [
    "fichier=open(\"notes_etudiants.txt\",\"x\")\n",
    "\n",
    "compteur=0\n",
    "while compteur<10:\n",
    "    nb=float(input(\"entrez un nb entre 0 et 20\"))\n",
    "    if 0<=nb<=20:\n",
    "        fichier.write(str(nb)+\"\\n\")\n",
    "        compteur+=1\n",
    "\n",
    "fichier.close()"
   ]
  },
  {
   "cell_type": "markdown",
   "metadata": {},
   "source": [
    "2. écrit dans un autre fichier texte `moyenne.txt` la moyenne des notes lues dans le fichier `notes_etudiants.txt`."
   ]
  },
  {
   "cell_type": "code",
   "execution_count": 20,
   "metadata": {
    "scrolled": true
   },
   "outputs": [
    {
     "name": "stdout",
     "output_type": "stream",
     "text": [
      "5.3\n"
     ]
    }
   ],
   "source": [
    "fichier=open(\"notes_etudiants.txt\",\"r\")\n",
    "\n",
    "contenu=fichier.readlines()\n",
    "fichier.close()\n",
    "\n",
    "somme=0\n",
    "for i in contenu:\n",
    "    somme += float(i)\n",
    "\n",
    "print(somme/len(contenu))\n",
    "\n"
   ]
  },
  {
   "cell_type": "markdown",
   "metadata": {},
   "source": [
    "***\n",
    "## Exercice 06.6\n",
    "***"
   ]
  },
  {
   "cell_type": "markdown",
   "metadata": {},
   "source": [
    "On se propose de réaliser dans cette exercice un générateur aléatoire de noms - prénoms.\n",
    "\n",
    "Ce générateur se base sur une liste des noms les plus portés en France, ainsi que sur les prénoms les plus donnés en France. Téléchargez le fichier \"FichierNoms.txt\", \"FichierPrenomsFilles\", \"FichierPrenomsGarçons.txt\" que vous trouverez sur Moodle.\n",
    "Ecrivez un programme qui :\n",
    "\n",
    "- demande à l’utilisateur combien de noms-prénoms de garçons doit-il générer et également combien noms-prénoms de filles ;\n",
    "- crée un fichier texte où chaque ligne du fichier contient : un nom tiré aléatoirement parmi les noms les plus portés, un prénom tiré aléatoirement parmi les prénoms les plus donnés ainsi que le sexe, représenté par les lettres F ou M selon que le prénom donné soit un prénom de filles ou de garçon."
   ]
  },
  {
   "cell_type": "code",
   "execution_count": null,
   "metadata": {
    "scrolled": true
   },
   "outputs": [],
   "source": [
    "# VOTRE CODE ICI"
   ]
  },
  {
   "cell_type": "markdown",
   "metadata": {},
   "source": [
    "***\n",
    "## Corrigé du TD 06\n",
    "\n",
    "Vous pouvez retrouver le corrigé de ce TD [ici](Corrigés/Corrigé_TD%2006.ipynb)."
   ]
  }
 ],
 "metadata": {
  "celltoolbar": "Format de la Cellule Texte Brut",
  "kernelspec": {
   "display_name": "Python 3",
   "language": "python",
   "name": "python3"
  },
  "language_info": {
   "codemirror_mode": {
    "name": "ipython",
    "version": 3
   },
   "file_extension": ".py",
   "mimetype": "text/x-python",
   "name": "python",
   "nbconvert_exporter": "python",
   "pygments_lexer": "ipython3",
   "version": "3.8.3"
  },
  "latex_envs": {
   "LaTeX_envs_menu_present": true,
   "autoclose": false,
   "autocomplete": true,
   "bibliofile": "biblio.bib",
   "cite_by": "apalike",
   "current_citInitial": 1,
   "eqLabelWithNumbers": true,
   "eqNumInitial": 1,
   "hotkeys": {
    "equation": "Ctrl-E",
    "itemize": "Ctrl-I"
   },
   "labels_anchors": false,
   "latex_user_defs": false,
   "report_style_numbering": false,
   "user_envs_cfg": false
  },
  "varInspector": {
   "cols": {
    "lenName": 16,
    "lenType": 16,
    "lenVar": 40
   },
   "kernels_config": {
    "python": {
     "delete_cmd_postfix": "",
     "delete_cmd_prefix": "del ",
     "library": "var_list.py",
     "varRefreshCmd": "print(var_dic_list())"
    },
    "r": {
     "delete_cmd_postfix": ") ",
     "delete_cmd_prefix": "rm(",
     "library": "var_list.r",
     "varRefreshCmd": "cat(var_dic_list()) "
    }
   },
   "types_to_exclude": [
    "module",
    "function",
    "builtin_function_or_method",
    "instance",
    "_Feature"
   ],
   "window_display": false
  }
 },
 "nbformat": 4,
 "nbformat_minor": 4
}
